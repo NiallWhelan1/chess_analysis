{
 "cells": [
  {
   "cell_type": "markdown",
   "metadata": {},
   "source": [
    "## Import Packages & Modules"
   ]
  },
  {
   "cell_type": "code",
   "execution_count": 1,
   "metadata": {},
   "outputs": [],
   "source": [
    "import os\n",
    "import numpy as np\n",
    "import pandas as pd\n",
    "import io\n",
    "from datetime import datetime\n",
    "import time\n",
    "\n",
    "# API Library\n",
    "import requests\n",
    "\n",
    "# Chess Package\n",
    "import chess.pgn\n"
   ]
  },
  {
   "cell_type": "markdown",
   "metadata": {},
   "source": [
    "## Inputs"
   ]
  },
  {
   "cell_type": "code",
   "execution_count": 2,
   "metadata": {},
   "outputs": [],
   "source": [
    "username = 'niallwhelan'\n",
    "file_dir = '/Users/nw/Documents/projects/chess_project/chess_files'\n",
    "eco_file = 'ECO.csv'"
   ]
  },
  {
   "cell_type": "markdown",
   "metadata": {},
   "source": [
    "## Chess.com - API & Dictionary Functions"
   ]
  },
  {
   "cell_type": "code",
   "execution_count": 3,
   "metadata": {},
   "outputs": [],
   "source": [
    "def chess_api(api):\n",
    "    api_success = 0 \n",
    "\n",
    "    try:\n",
    "        response = requests.get(api)\n",
    "    except:\n",
    "        print('API Error - Could not make request (Possible API Configuration Issue)')\n",
    "        print(f'API: {api}')\n",
    "    else:\n",
    "        if response.status_code != 200: \n",
    "            print('API Error - Request made but error code returned')\n",
    "            print(f'Response Code: {response.status_code} ({response.reason})')\n",
    "        else:\n",
    "            api_success = 1\n",
    "\n",
    "        #print(f'Response Time: {response.elapsed.total_seconds()} sec\\\n",
    "        #({response.elapsed.microseconds}ms)')\n",
    "    \n",
    "    if response.status_code == 200:\n",
    "    # Store Data in Dictionary\n",
    "        try:\n",
    "            user_dict = response.json()\n",
    "        except:\n",
    "            print('Error converting data from JSON response to python dictionary')\n",
    "\n",
    "        finally:\n",
    "            response.close()\n",
    "    \n",
    "    return user_dict\n",
    "    \n"
   ]
  },
  {
   "cell_type": "markdown",
   "metadata": {},
   "source": [
    "## User Metadata & Stats APIs"
   ]
  },
  {
   "cell_type": "code",
   "execution_count": 4,
   "metadata": {
    "scrolled": true
   },
   "outputs": [],
   "source": [
    "# Function to extract user metadata\n",
    "def user_info(username):\n",
    "    user_dict = chess_api(f\"https://api.chess.com/pub/player/{username}\")\n",
    "\n",
    "    # Clean up dictionary\n",
    "    try:\n",
    "        user_dict['country'] = user_dict['country'][(user_dict['country'].rfind('/')+1):] # Extract Country from end of URL\n",
    "        user_dict['user_active_days'] = (datetime.utcfromtimestamp(user_dict['last_online']) - datetime.utcfromtimestamp(user_dict['joined'])).days\n",
    "        user_dict['joined'] = datetime.utcfromtimestamp(user_dict['joined']).strftime('%Y-%m-%d')\n",
    "        user_dict['last_online'] = datetime.utcfromtimestamp(user_dict['last_online']).strftime('%Y-%m-%d')\n",
    "\n",
    "    except:\n",
    "        print('Error cleaning up user meta data dictionary')\n",
    "        \n",
    "    return user_dict \n",
    "\n",
    "# Function to extract user stats\n",
    "def user_stats(username):\n",
    "    user_stats_dict = chess_api(f\"https://api.chess.com/pub/player/{username}/stats\")\n",
    "    return user_stats_dict\n"
   ]
  },
  {
   "cell_type": "markdown",
   "metadata": {},
   "source": [
    "## Game Extraction Function"
   ]
  },
  {
   "cell_type": "code",
   "execution_count": 5,
   "metadata": {},
   "outputs": [],
   "source": [
    "\n",
    "def extract_game_data(game):\n",
    "    \n",
    "    # Game Type\n",
    "    game_type = f\"{game['rules']}_{game['time_class']}\"\n",
    "    \n",
    "    # Identify if player was black or white\n",
    "    white_peices = 0\n",
    "    if game['white']['username'] == username:\n",
    "        player_dict = game['white']\n",
    "        opp_dict = game['black']\n",
    "        white_peices = 1\n",
    "    elif game['black']['username'] == username:\n",
    "        player_dict = game['black']\n",
    "        opp_dict = game['white']\n",
    "        white_peices = 0\n",
    "    else:\n",
    "        raise Exception(f\"Error - Cannot identify user as black/white in game (Game URL: {game['url']})\")    \n",
    "    \n",
    "    # Get opponent info\n",
    "    try:\n",
    "        opp_info = user_info(opp_dict['username'])\n",
    "    except:\n",
    "        opp_info = {'country': None,\n",
    "                    'joined': None,\n",
    "                    'status': None}\n",
    "        \n",
    "    # Get opponent stats\n",
    "    try:\n",
    "        opp_stats = user_stats(opp_dict['username'])\n",
    "        ## Get Stats for this game type\n",
    "        opp_stats = opp_stats[game_type]\n",
    "    except:\n",
    "        opp_stats = {'record': {'win': None, 'loss': None, 'draw': None} }\n",
    "    \n",
    "    try:\n",
    "        # Read the PGN of the game details\n",
    "        pgn = io.StringIO(game['pgn'])\n",
    "        game_details = chess.pgn.read_game(pgn)\n",
    "    except:\n",
    "        print('Error reading png file using the chess chess.pgn.read_game function')\n",
    "            \n",
    "    \n",
    "    player_first_moves, opp_first_moves, game_len = first_x_moves(game_details, white_peices, x=5)\n",
    "\n",
    "    feature_df = {\n",
    "        'game_type': game_type,\n",
    "        'game_rules': game['rules'],\n",
    "        'time_class': game['time_class'],\n",
    "        'time_control_sec': int(game['time_control']),\n",
    "        'time_control_min': int(game['time_control'])/60,\n",
    "        'game_url': game['url'],\n",
    "        'game_id': game['url'][(game['url'].rfind('/')+1):],\n",
    "        'game_site': game_details.headers['Site'],\n",
    "        'game_date': game_details.headers['Date'],\n",
    "        'game_time': game_details.headers['StartTime'],\n",
    "        'player_rating_post': player_dict['rating'],\n",
    "        'player_whites': white_peices,\n",
    "        'opponent_name': opp_dict['username'],\n",
    "        'opponent_rating_post': opp_dict['rating'],\n",
    "        'opponent_result': opp_dict['result'],\n",
    "        'opponent_country': opp_info['country'],\n",
    "        'opponent_joined': opp_info['joined'],\n",
    "        'opponent_status': opp_info['status'],\n",
    "        'opponent_win': opp_stats['record']['win'],\n",
    "        'opponent_loss': opp_stats['record']['loss'],\n",
    "        'opponent_draw': opp_stats['record']['draw'],\n",
    "        'player_eco': game_details.headers['ECO'],\n",
    "        'player_move_1': player_first_moves[0],\n",
    "        'player_move_2': player_first_moves[1],\n",
    "        'player_move_3': player_first_moves[2],\n",
    "        'player_move_4': player_first_moves[3],\n",
    "        'player_move_5': player_first_moves[4],\n",
    "        'opp_move_1': opp_first_moves[0],\n",
    "        'opp_move_2': opp_first_moves[1],\n",
    "        'opp_move_3': opp_first_moves[2],\n",
    "        'opp_move_4': opp_first_moves[3],\n",
    "        'opp_move_5': opp_first_moves[4],\n",
    "        'game_length': game_len,\n",
    "        'result': player_dict['result']\n",
    "        }\n",
    "    return feature_df\n",
    "\n",
    "\n",
    "## Function to extract list of first x moves\n",
    "def first_x_moves(game_details, white_peices, x=5):\n",
    "    white_moves = []\n",
    "    black_moves = []\n",
    "\n",
    "    player_first_moves = [None]*x\n",
    "    opp_first_moves = [None]*x\n",
    "    \n",
    "    try:\n",
    "        game_moves = list(game_details.mainline_moves())\n",
    "        game_moves = [i.uci() for i in game_moves]\n",
    "\n",
    "        for i in range(len(game_moves)):\n",
    "            if i % 2 == 0:\n",
    "                white_moves.append(game_moves[i])\n",
    "            else:\n",
    "                black_moves.append(game_moves[i])\n",
    "    except:\n",
    "        print('Error Extracting game moves from png file inside the first_x_moves function')\n",
    "\n",
    "    if white_peices == 0:\n",
    "        player_first_moves = (white_moves + [None]*(x - len(white_moves)))[:x]\n",
    "        opp_first_moves = (black_moves + [None]*(x - len(black_moves)))[:x]\n",
    "    else:\n",
    "        opp_first_moves = (white_moves + [None]*(x - len(white_moves)))[:x]\n",
    "        player_first_moves = (black_moves + [None]*(x - len(black_moves)))[:x]\n",
    "    \n",
    "    game_len = len(white_moves)\n",
    "    \n",
    "    return player_first_moves, opp_first_moves, game_len"
   ]
  },
  {
   "cell_type": "markdown",
   "metadata": {},
   "source": [
    "## User Game Data"
   ]
  },
  {
   "cell_type": "code",
   "execution_count": 7,
   "metadata": {
    "scrolled": true
   },
   "outputs": [],
   "source": [
    "# Initilize Dataframe\n",
    "game_df = pd.DataFrame(columns =['game_type', 'game_rules', 'time_class', \n",
    "                                 'time_control_sec', \n",
    "                                 'time_control_min', 'game_url', 'game_id', \n",
    "                                 'game_site', 'game_date', 'game_time', \n",
    "                                 'player_rating_post', 'player_whites', \n",
    "                                 'opponent_name', 'opponent_rating_post', \n",
    "                                 'opponent_result', 'opponent_country', 'opponent_joined',\n",
    "                                 'opponent_status', 'opponent_win', 'opponent_loss',\n",
    "                                 'opponent_draw', 'player_eco', \n",
    "                                 'player_move_1','player_move_2', 'player_move_3',\n",
    "                                 'player_move_4', 'player_move_5',\n",
    "                                 'opp_move_1', 'opp_move_2', 'opp_move_3',\n",
    "                                 'opp_move_4', 'opp_move_5', 'game_length',\n",
    "                                 'result'])\n",
    "\n",
    "user_game_months = chess_api(f\"https://api.chess.com/pub/player/{username}/games/archives\")\n",
    "\n",
    "# Create dictionary to output as 1 row to dataframe\n",
    "feature_df = {}\n",
    "\n",
    "for mth in user_game_months['archives']:\n",
    "    all_game_data = chess_api(mth)\n",
    "    for game in all_game_data['games']:\n",
    "        time.sleep(1)\n",
    "        game_dict = extract_game_data(game)\n",
    "        temp_df = pd.DataFrame(columns=game_dict.keys())\n",
    "        temp_df = temp_df.append(game_dict, ignore_index=True)\n",
    "        \n",
    "        # Append to final dataframe\n",
    "        game_df = game_df.append(temp_df)\n",
    "        \n"
   ]
  },
  {
   "cell_type": "markdown",
   "metadata": {},
   "source": [
    "## Export Data to CSV"
   ]
  },
  {
   "cell_type": "code",
   "execution_count": null,
   "metadata": {},
   "outputs": [],
   "source": [
    "os.chdir(file_dir)\n",
    "game_df.to_csv('Game Data.csv', index=False, header=True)"
   ]
  },
  {
   "cell_type": "code",
   "execution_count": null,
   "metadata": {},
   "outputs": [],
   "source": []
  }
 ],
 "metadata": {
  "kernelspec": {
   "display_name": "Python 3",
   "language": "python",
   "name": "python3"
  },
  "language_info": {
   "codemirror_mode": {
    "name": "ipython",
    "version": 3
   },
   "file_extension": ".py",
   "mimetype": "text/x-python",
   "name": "python",
   "nbconvert_exporter": "python",
   "pygments_lexer": "ipython3",
   "version": "3.7.6"
  }
 },
 "nbformat": 4,
 "nbformat_minor": 4
}
