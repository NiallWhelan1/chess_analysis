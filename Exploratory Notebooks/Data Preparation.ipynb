{
 "cells": [
  {
   "cell_type": "markdown",
   "metadata": {},
   "source": [
    "## Packages & Modules"
   ]
  },
  {
   "cell_type": "code",
   "execution_count": 1,
   "metadata": {},
   "outputs": [],
   "source": [
    "import os\n",
    "import numpy as np\n",
    "import pandas as pd\n",
    "\n",
    "from datetime import datetime"
   ]
  },
  {
   "cell_type": "markdown",
   "metadata": {},
   "source": [
    "## Data Inputs"
   ]
  },
  {
   "cell_type": "code",
   "execution_count": 2,
   "metadata": {},
   "outputs": [],
   "source": [
    "file_dir = '/Users/nw/Documents/projects/chess_project/chess_files'\n",
    "input_file = 'Game Data.csv'\n",
    "\n",
    "game_type = 'chess_blitz'\n",
    "game_time_sec = 600"
   ]
  },
  {
   "cell_type": "markdown",
   "metadata": {},
   "source": [
    "## Data Inputs"
   ]
  },
  {
   "cell_type": "code",
   "execution_count": 3,
   "metadata": {},
   "outputs": [
    {
     "name": "stdout",
     "output_type": "stream",
     "text": [
      "Missing Data (Usually API Issue) - Dropped 9 Rows\n"
     ]
    }
   ],
   "source": [
    "os.chdir(file_dir)\n",
    "game_data = pd.read_csv(input_file)\n",
    "\n",
    "game_data = game_data[(game_data['game_type'] == game_type) &\n",
    "                      (game_data['time_control_sec'] == game_time_sec)]\n",
    "\n",
    "num_rows_miss_info = len(game_data) - len(game_data.dropna(axis = 0))\n",
    "if num_rows_miss_info > 0:\n",
    "    print(f'Missing Data (Usually API Issue) - Dropped {num_rows_miss_info} Rows')\n",
    "    game_data = game_data.dropna(axis = 0)\n",
    "\n",
    "game_data = game_data.reset_index()"
   ]
  },
  {
   "cell_type": "markdown",
   "metadata": {},
   "source": [
    "## Data Cleanup"
   ]
  },
  {
   "cell_type": "code",
   "execution_count": 4,
   "metadata": {},
   "outputs": [],
   "source": [
    "## Remove unused columns\n",
    "game_data = game_data.drop(['game_type','game_rules','time_class',\n",
    "                            'time_control_sec','time_control_min','game_url',\n",
    "                            'game_site','index'], \n",
    "                           axis = 1)\n",
    "\n",
    "## Clean up dates & times\n",
    "\n",
    "#### Game Date\n",
    "game_data['game_date_time'] = game_data['game_date'].str.cat(game_data['game_time'], sep = ' - ')\n",
    "\n",
    "game_data['game_date_time'] = game_data['game_date_time'].apply(datetime.strptime, \n",
    "                                                          args=('%Y.%m.%d - %H:%M:%S',))\n",
    "\n",
    "game_data['game_date'] = game_data['game_date_time'].dt.date\n",
    "game_data['game_time'] = game_data['game_date_time'].dt.time\n",
    "\n",
    "#### Opponent Joined Date\n",
    "game_data['opponent_joined'] = game_data['opponent_joined'].apply(datetime.strptime, \n",
    "                                                          args=('%Y-%m-%d',)).dt.date\n",
    "\n",
    "## Ensure sorting is in place\n",
    "game_data = game_data.sort_values(by = 'game_date_time', ascending=True)"
   ]
  },
  {
   "cell_type": "markdown",
   "metadata": {},
   "source": [
    "## Target Variable Cleanup"
   ]
  },
  {
   "cell_type": "code",
   "execution_count": 5,
   "metadata": {},
   "outputs": [],
   "source": [
    "result_list_bin = []\n",
    "result_list_multi = []\n",
    "for i in game_data['result']:\n",
    "    if i == 'win':\n",
    "        result_list_bin.append(1)\n",
    "        result_list_multi.append(1)\n",
    "    elif i in ['checkmated','resigned','timeout']:\n",
    "        result_list_bin.append(0)\n",
    "        result_list_multi.append(0)\n",
    "    else:\n",
    "        result_list_bin.append(0)\n",
    "        result_list_multi.append(2)\n",
    "\n",
    "game_data['result_binary'] = result_list_bin\n",
    "game_data['result_multi_class'] = result_list_multi"
   ]
  },
  {
   "cell_type": "markdown",
   "metadata": {},
   "source": [
    "## Derive Features"
   ]
  },
  {
   "cell_type": "code",
   "execution_count": 6,
   "metadata": {},
   "outputs": [],
   "source": [
    "## Hour Feature\n",
    "game_data['game_time_hour'] = game_data['game_date_time'].dt.hour\n",
    "\n",
    "## Day of Week\n",
    "game_data['game_day_of_week'] = game_data['game_date_time'].dt.dayofweek\n",
    "\n",
    "## opponent time since joined\n",
    "game_data['opponant_tsj'] = (game_data['game_date'] - game_data['opponent_joined']).dt.days\n",
    "\n",
    "game_data['opponant_all_games'] = game_data[['opponent_draw',\n",
    "                                             'opponent_win',\n",
    "                                             'opponent_loss']].sum(axis =1)\n",
    "\n",
    "\n",
    "## Get points earned/lost per game\n",
    "game_data = game_data.sort_values(by = 'game_date_time')\n",
    "game_data['player_point_change'] = game_data['player_rating_post'].diff().fillna(0)\n",
    "## Calculate score at start of game\n",
    "game_data['player_rating_pre'] = game_data['player_rating_post'] - game_data['player_point_change']\n",
    "\n"
   ]
  },
  {
   "cell_type": "markdown",
   "metadata": {},
   "source": [
    "## Cumulative Features"
   ]
  },
  {
   "cell_type": "code",
   "execution_count": 19,
   "metadata": {},
   "outputs": [],
   "source": [
    "## Game counts - ever, day, hour\n",
    "game_data['cum_games_played'] = list(game_data.index)\n",
    "\n",
    "#### Day\n",
    "games_today = []\n",
    "curr_day = min(game_data['game_date'])\n",
    "day_count = 0\n",
    "for i in game_data['game_date']:\n",
    "    if i == curr_day:\n",
    "        day_count += 1\n",
    "    else:\n",
    "        day_count = 1\n",
    "        curr_day = i\n",
    "    games_today.append(day_count)\n",
    "\n",
    "game_data['cum_games_today'] = games_today\n",
    "\n",
    "#### Hour\n",
    "games_hour = []\n",
    "curr_hour = min(game_data['game_date_time'].dt.floor(freq = 'h'))\n",
    "hr_count = 0\n",
    "for i in game_data['game_date_time'].dt.floor(freq = 'h'):\n",
    "    if i == curr_hour:\n",
    "        hr_count += 1\n",
    "    else:\n",
    "        hr_count = 1\n",
    "        curr_hour = i\n",
    "    games_hour.append(hr_count)\n",
    "\n",
    "game_data['cum_games_hour'] = games_hour\n",
    "\n",
    "## Cumulative player wins\n",
    "game_data['cum_wins'] = game_data['result_binary'].cumsum()\n",
    "game_data['cum_non_wins'] = game_data['cum_games_played'] - game_data['cum_wins']"
   ]
  },
  {
   "cell_type": "markdown",
   "metadata": {},
   "source": [
    "## Export to CSV"
   ]
  },
  {
   "cell_type": "code",
   "execution_count": 9,
   "metadata": {},
   "outputs": [],
   "source": [
    "os.chdir(file_dir)\n",
    "game_data.to_csv('Game Data.csv', index=False, header=True)"
   ]
  }
 ],
 "metadata": {
  "kernelspec": {
   "display_name": "Python 3",
   "language": "python",
   "name": "python3"
  },
  "language_info": {
   "codemirror_mode": {
    "name": "ipython",
    "version": 3
   },
   "file_extension": ".py",
   "mimetype": "text/x-python",
   "name": "python",
   "nbconvert_exporter": "python",
   "pygments_lexer": "ipython3",
   "version": "3.7.6"
  }
 },
 "nbformat": 4,
 "nbformat_minor": 4
}
