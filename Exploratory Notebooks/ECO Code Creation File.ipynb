{
 "cells": [
  {
   "cell_type": "markdown",
   "metadata": {},
   "source": [
    "## Import Packages & Modules"
   ]
  },
  {
   "cell_type": "code",
   "execution_count": 1,
   "metadata": {},
   "outputs": [],
   "source": [
    "import os\n",
    "import requests\n",
    "from zipfile import ZipFile\n",
    "\n",
    "import pandas as pd"
   ]
  },
  {
   "cell_type": "markdown",
   "metadata": {},
   "source": [
    "## Inputs"
   ]
  },
  {
   "cell_type": "code",
   "execution_count": 2,
   "metadata": {},
   "outputs": [],
   "source": [
    "# Output Location\n",
    "out_dir = '/Users/nw/Documents/projects/chess_project/chess_files'\n",
    "# Git Repo to extract ECO files from \n",
    "git_dir = 'https://github.com/niklasf/eco/archive/master.zip'"
   ]
  },
  {
   "cell_type": "markdown",
   "metadata": {},
   "source": [
    "## Env Setup"
   ]
  },
  {
   "cell_type": "code",
   "execution_count": 3,
   "metadata": {},
   "outputs": [],
   "source": [
    "try:\n",
    "    os.chdir(out_dir)\n",
    "except:\n",
    "    print('Error - Cannot change directory to output location')"
   ]
  },
  {
   "cell_type": "markdown",
   "metadata": {},
   "source": [
    "## Data Extraction to Folder"
   ]
  },
  {
   "cell_type": "code",
   "execution_count": 4,
   "metadata": {},
   "outputs": [],
   "source": [
    "# Get data from github\n",
    "response = requests.get(git_dir)\n",
    "\n",
    "# Create zip file to store data in\n",
    "filename = os.path.join(os.getcwd(), 'eco.zip')\n",
    "\n",
    "# write all contents\n",
    "with open(filename, 'wb') as f:\n",
    "    f.write(response.content)\n",
    "    \n",
    "with ZipFile('eco.zip', 'r') as zipObj:\n",
    "   # Extract all the contents of zip file in current directory\n",
    "   zipObj.extractall()\n",
    "    \n",
    "# Remove Zip File    \n",
    "os.remove('eco.zip')"
   ]
  },
  {
   "cell_type": "markdown",
   "metadata": {},
   "source": [
    "## Create Single ECO file"
   ]
  },
  {
   "cell_type": "code",
   "execution_count": 13,
   "metadata": {},
   "outputs": [],
   "source": [
    "# Get list of all files\n",
    "os.chdir(f\"{out_dir}/eco-master\")\n",
    "all_files = os.listdir()\n",
    "all_files = [f for f in all_files if f.endswith('.tsv') ]\n",
    "\n",
    "li = []\n",
    "\n",
    "for filename in all_files:\n",
    "    df = pd.read_csv(filename, sep='\\t', index_col=None, header=0)\n",
    "    li.append(df)\n",
    "\n",
    "eco_df = pd.concat(li, axis=0, ignore_index=True)\n",
    "\n",
    "# Drop FEN Column\n",
    "#eco_df = eco_df.drop(['fen'], axis = 1)"
   ]
  },
  {
   "cell_type": "markdown",
   "metadata": {},
   "source": [
    "## Output File"
   ]
  },
  {
   "cell_type": "code",
   "execution_count": 16,
   "metadata": {},
   "outputs": [],
   "source": [
    "os.chdir(out_dir)\n",
    "eco_df.to_csv('ECO.csv',\n",
    "              index = False,\n",
    "              header=True)"
   ]
  }
 ],
 "metadata": {
  "kernelspec": {
   "display_name": "Python 3",
   "language": "python",
   "name": "python3"
  },
  "language_info": {
   "codemirror_mode": {
    "name": "ipython",
    "version": 3
   },
   "file_extension": ".py",
   "mimetype": "text/x-python",
   "name": "python",
   "nbconvert_exporter": "python",
   "pygments_lexer": "ipython3",
   "version": "3.7.6"
  }
 },
 "nbformat": 4,
 "nbformat_minor": 4
}
